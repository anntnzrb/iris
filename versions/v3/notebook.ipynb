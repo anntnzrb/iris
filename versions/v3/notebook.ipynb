{
 "cells": [
  {
   "cell_type": "markdown",
   "id": "cell-0",
   "metadata": {},
   "source": [
    "# Clasificación de IRIS con k-vecinos más cercanos (kNN)\n",
    "\n",
    "## Objetivo\n",
    "Aplicar el algoritmo de aprendizaje supervisado k-vecinos más cercanos (kNN) al conjunto de datos IRIS, desarrollando un proceso completo de clasificación que incluya: análisis exploratorio, preparación de datos, entrenamiento, evaluación del modelo y visualización de resultados."
   ]
  },
  {
   "cell_type": "markdown",
   "id": "cell-1",
   "metadata": {},
   "source": [
    "## Cargamos la base de datos de IRIS"
   ]
  },
  {
   "cell_type": "code",
   "execution_count": null,
   "id": "cell-2",
   "metadata": {},
   "outputs": [],
   "source": [
    "import pandas as pd\n",
    "import matplotlib.pyplot as plt\n",
    "import seaborn as sns\n",
    "import os\n",
    "\n",
    "# crear directorio para guardar figuras\n",
    "os.makedirs('out', exist_ok=True)\n",
    "\n",
    "# cargar el dataset IRIS\n",
    "iris = pd.read_csv('iris.csv')"
   ]
  },
  {
   "cell_type": "markdown",
   "id": "cell-3",
   "metadata": {},
   "source": [
    "## Análisis Exploratorio de Datos"
   ]
  },
  {
   "cell_type": "code",
   "execution_count": null,
   "id": "cell-4",
   "metadata": {},
   "outputs": [],
   "source": [
    "# Mostramos las primeras 5 filas de la base de datos\n",
    "iris.head()"
   ]
  },
  {
   "cell_type": "code",
   "execution_count": null,
   "id": "cell-5",
   "metadata": {},
   "outputs": [],
   "source": [
    "# Mostramos las últimas 5 filas de la base de datos\n",
    "iris.tail()"
   ]
  },
  {
   "cell_type": "code",
   "execution_count": null,
   "id": "cell-6",
   "metadata": {},
   "outputs": [],
   "source": [
    "# Mostramos la información de la base de datos\n",
    "iris.info()"
   ]
  },
  {
   "cell_type": "code",
   "execution_count": null,
   "id": "cell-7",
   "metadata": {},
   "outputs": [],
   "source": [
    "# Mostramos la descripción estadística de la base de datos 'iris'\n",
    "iris.describe()"
   ]
  },
  {
   "cell_type": "markdown",
   "id": "cell-8",
   "metadata": {},
   "source": [
    "## Preprocesamiento de datos"
   ]
  },
  {
   "cell_type": "code",
   "execution_count": null,
   "id": "cell-9",
   "metadata": {},
   "outputs": [],
   "source": [
    "# Eliminamos la columna 'Id' de la base de datos 'iris'\n",
    "iris = iris.drop('Id', axis=1)\n",
    "iris.head()"
   ]
  },
  {
   "cell_type": "markdown",
   "id": "cell-10",
   "metadata": {},
   "source": [
    "## Visualización de Datos"
   ]
  },
  {
   "cell_type": "markdown",
   "id": "cell-11",
   "metadata": {},
   "source": [
    "### Comparamos las variables 'Sepal Length' y 'Sepal Width'"
   ]
  },
  {
   "cell_type": "code",
   "execution_count": null,
   "id": "cell-12",
   "metadata": {},
   "outputs": [],
   "source": [
    "plt.figure(figsize=(10, 6))\n",
    "sns.scatterplot(x='SepalLengthCm', y='SepalWidthCm', hue='Species', data=iris)\n",
    "plt.title('Relación entre Longitud y Ancho del Sépalo')\n",
    "plt.savefig('out/sepal_scatter.png', dpi=300, bbox_inches='tight')\n",
    "plt.show()"
   ]
  },
  {
   "cell_type": "markdown",
   "id": "cell-13",
   "metadata": {},
   "source": [
    "### Comparamos las variables 'Petal Length' y 'Petal Width'"
   ]
  },
  {
   "cell_type": "code",
   "execution_count": null,
   "id": "cell-14",
   "metadata": {},
   "outputs": [],
   "source": [
    "plt.figure(figsize=(10, 6))\n",
    "sns.scatterplot(x='PetalLengthCm', y='PetalWidthCm', hue='Species', data=iris)\n",
    "plt.title('Relación entre Longitud y Ancho del Pétalo')\n",
    "plt.savefig('out/petal_scatter.png', dpi=300, bbox_inches='tight')\n",
    "plt.show()"
   ]
  },
  {
   "cell_type": "markdown",
   "id": "cell-15",
   "metadata": {},
   "source": [
    "### Graficamos las relaciones de todas las columnas"
   ]
  },
  {
   "cell_type": "code",
   "execution_count": null,
   "id": "cell-16",
   "metadata": {},
   "outputs": [],
   "source": [
    "# Visualizamos la relación entre las características\n",
    "g = sns.pairplot(iris, hue='Species')\n",
    "g.savefig('out/pairplot_iris.png', dpi=300, bbox_inches='tight')\n",
    "plt.show()"
   ]
  },
  {
   "cell_type": "markdown",
   "id": "cell-17",
   "metadata": {},
   "source": [
    "## Modelado"
   ]
  },
  {
   "cell_type": "markdown",
   "id": "cell-18",
   "metadata": {},
   "source": [
    "### Aislamos las variables predictoras"
   ]
  },
  {
   "cell_type": "code",
   "execution_count": null,
   "id": "cell-19",
   "metadata": {},
   "outputs": [],
   "source": [
    "# Aislamos las variables predictoras\n",
    "X = iris.drop('Species', axis=1)\n",
    "X.head()"
   ]
  },
  {
   "cell_type": "markdown",
   "id": "cell-20",
   "metadata": {},
   "source": [
    "### Aislamos la variable objetivo"
   ]
  },
  {
   "cell_type": "code",
   "execution_count": null,
   "id": "cell-21",
   "metadata": {},
   "outputs": [],
   "source": [
    "# Aislamos la variable objetivo\n",
    "y = iris['Species']\n",
    "y.head()"
   ]
  },
  {
   "cell_type": "markdown",
   "id": "cell-22",
   "metadata": {},
   "source": [
    "### Dividimos los datos en sub datasets para entrenamiento y prueba"
   ]
  },
  {
   "cell_type": "code",
   "execution_count": null,
   "id": "cell-23",
   "metadata": {},
   "outputs": [],
   "source": [
    "# Dividimos la base de datos en entrenamiento y prueba\n",
    "from sklearn.model_selection import train_test_split\n",
    "X_train, X_test, y_train, y_test = train_test_split(X, y, test_size=0.2, random_state=42)\n",
    "\n",
    "print(f\"Entrenamiento: {len(X_train)} muestras\")\n",
    "print(f\"Prueba: {len(X_test)} muestras\")"
   ]
  },
  {
   "cell_type": "markdown",
   "id": "cell-24",
   "metadata": {},
   "source": [
    "### Entrenamos el clasificador k-NN"
   ]
  },
  {
   "cell_type": "code",
   "execution_count": null,
   "id": "cell-25",
   "metadata": {},
   "outputs": [],
   "source": [
    "# Importamos el modelo k-Nearest Neighbors\n",
    "from sklearn.neighbors import KNeighborsClassifier\n",
    "\n",
    "# Creamos el modelo K-Nearest Neighbors\n",
    "classifier = KNeighborsClassifier(n_neighbors=5)\n",
    "\n",
    "# Entrenamos el modelo\n",
    "classifier.fit(X_train, y_train)"
   ]
  },
  {
   "cell_type": "code",
   "execution_count": null,
   "id": "cell-26",
   "metadata": {},
   "outputs": [],
   "source": [
    "# Realizamos la predicción en los datos de X_test\n",
    "y_pred = classifier.predict(X_test)\n",
    "y_pred"
   ]
  },
  {
   "cell_type": "markdown",
   "id": "cell-27",
   "metadata": {},
   "source": [
    "## Evaluación del modelo"
   ]
  },
  {
   "cell_type": "code",
   "execution_count": null,
   "id": "cell-28",
   "metadata": {},
   "outputs": [],
   "source": [
    "# Importamos la métrica de precisión\n",
    "from sklearn.metrics import accuracy_score\n",
    "\n",
    "# Calculamos la precisión del modelo\n",
    "acc = accuracy_score(y_test, y_pred)\n",
    "print(\"Precisión del modelo:\", acc)"
   ]
  },
  {
   "cell_type": "markdown",
   "id": "cell-29",
   "metadata": {},
   "source": [
    "## Matriz de Confusión"
   ]
  },
  {
   "cell_type": "code",
   "execution_count": null,
   "id": "cell-30",
   "metadata": {},
   "outputs": [],
   "source": [
    "# Importamos la matriz de confusión\n",
    "from sklearn.metrics import confusion_matrix\n",
    "\n",
    "# Calculamos la matriz de confusión con los nombres de las especies\n",
    "cf_matrix = confusion_matrix(y_test, y_pred)\n",
    "\n",
    "# Visualizamos la matriz de confusión con los nombres de las especies de IRIS\n",
    "plt.figure(figsize=(8, 6))\n",
    "sns.heatmap(cf_matrix, annot=True, fmt='d', xticklabels=iris['Species'].unique(), yticklabels=iris['Species'].unique(), cmap='Blues')\n",
    "plt.title('Matriz de Confusión - Modelo k-NN')\n",
    "plt.ylabel('Valores Reales')\n",
    "plt.xlabel('Predicciones')\n",
    "plt.savefig('out/confusion_matrix.png', dpi=300, bbox_inches='tight')\n",
    "plt.show()"
   ]
  },
  {
   "cell_type": "markdown",
   "id": "cell-31",
   "metadata": {},
   "source": [
    "## Experimentación con diferentes valores de k"
   ]
  },
  {
   "cell_type": "code",
   "execution_count": null,
   "id": "cell-32",
   "metadata": {},
   "outputs": [],
   "source": [
    "# Probamos diferentes valores de k\n",
    "k_values = range(1, 16)\n",
    "accuracies = []\n",
    "\n",
    "print(\"Precisión por valor de k:\")\n",
    "for k in k_values:\n",
    "    knn = KNeighborsClassifier(n_neighbors=k)\n",
    "    knn.fit(X_train, y_train)\n",
    "    y_pred_k = knn.predict(X_test)\n",
    "    acc_k = accuracy_score(y_test, y_pred_k)\n",
    "    accuracies.append(acc_k)\n",
    "    print(f\"k={k}: {acc_k:.4f} ({acc_k*100:.1f}%)\")\n",
    "\n",
    "# Visualizamos los resultados\n",
    "plt.figure(figsize=(10, 6))\n",
    "plt.plot(k_values, accuracies, marker='o', linewidth=2, markersize=6)\n",
    "plt.title('Precisión del modelo k-NN para diferentes valores de k')\n",
    "plt.xlabel('Valor de k')\n",
    "plt.ylabel('Precisión')\n",
    "plt.grid(True, alpha=0.3)\n",
    "plt.xticks(k_values)\n",
    "plt.savefig('out/k_values_comparison.png', dpi=300, bbox_inches='tight')\n",
    "plt.show()\n",
    "\n",
    "# Encontramos el mejor k\n",
    "best_k = k_values[accuracies.index(max(accuracies))]\n",
    "best_acc = max(accuracies)\n",
    "print(f\"\\nMejor valor de k: {best_k} con precisión de {best_acc:.4f} ({best_acc*100:.1f}%)\")"
   ]
  }
 ],
 "metadata": {
  "kernelspec": {
   "display_name": "Python 3",
   "language": "python",
   "name": "python3"
  },
  "language_info": {
   "codemirror_mode": {
    "name": "ipython",
    "version": 3
   },
   "file_extension": ".py",
   "mimetype": "text/x-python",
   "name": "python",
   "nbconvert_exporter": "python",
   "pygments_lexer": "ipython3",
   "version": "3.8.5"
  }
 },
 "nbformat": 4,
 "nbformat_minor": 4
}