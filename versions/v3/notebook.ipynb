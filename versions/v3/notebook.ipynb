{
 "cells": [
  {
   "cell_type": "markdown",
   "metadata": {},
   "source": [
    "# Análisis del Dataset IRIS con k-NN\n",
    "\n",
    "## Objetivo\n",
    "Aplicar el algoritmo k-vecinos más cercanos (k-NN) al conjunto de datos IRIS para clasificar especies de flores, incluyendo análisis exploratorio, preprocesamiento, entrenamiento y evaluación del modelo.\n",
    "\n",
    "## Importar librerías necesarias"
   ]
  },
  {
   "cell_type": "code",
   "execution_count": null,
   "metadata": {},
   "outputs": [],
   "source": [
    "import pandas as pd\n",
    "import numpy as np\n",
    "import matplotlib.pyplot as plt\n",
    "import seaborn as sns\n",
    "from sklearn.datasets import load_iris\n",
    "from sklearn.model_selection import train_test_split\n",
    "from sklearn.neighbors import KNeighborsClassifier\n",
    "from sklearn.metrics import accuracy_score, classification_report, confusion_matrix\n",
    "from sklearn.preprocessing import StandardScaler\n",
    "import warnings\n",
    "warnings.filterwarnings('ignore')\n",
    "\n",
    "plt.style.use('seaborn-v0_8')\n",
    "plt.rcParams['figure.figsize'] = (10, 6)"
   ]
  },
  {
   "cell_type": "markdown",
   "metadata": {},
   "source": [
    "## 1. Cargar y revisar el dataset IRIS"
   ]
  },
  {
   "cell_type": "code",
   "execution_count": null,
   "metadata": {},
   "outputs": [],
   "source": [
    "# Cargar el dataset IRIS\n",
    "iris = load_iris()\n",
    "df = pd.DataFrame(iris.data, columns=iris.feature_names)\n",
    "df['species'] = iris.target\n",
    "df['species_name'] = df['species'].map({0: 'setosa', 1: 'versicolor', 2: 'virginica'})\n",
    "\n",
    "print(\"Dimensiones del dataset:\", df.shape)\n",
    "print(\"\\nPrimeras 5 filas:\")\n",
    "df.head()"
   ]
  },
  {
   "cell_type": "code",
   "execution_count": null,
   "metadata": {},
   "outputs": [],
   "source": [
    "# Información general del dataset\n",
    "print(\"Información del dataset:\")\n",
    "print(df.info())\n",
    "print(\"\\nEstadísticas descriptivas:\")\n",
    "df.describe()"
   ]
  },
  {
   "cell_type": "code",
   "execution_count": null,
   "metadata": {},
   "outputs": [],
   "source": [
    "# Verificar valores nulos y distribución de especies\n",
    "print(\"Valores nulos por columna:\")\n",
    "print(df.isnull().sum())\n",
    "print(\"\\nDistribución de especies:\")\n",
    "print(df['species_name'].value_counts())"
   ]
  },
  {
   "cell_type": "markdown",
   "metadata": {},
   "source": [
    "## 2. Análisis exploratorio visual"
   ]
  },
  {
   "cell_type": "code",
   "execution_count": null,
   "metadata": {},
   "outputs": [],
   "source": [
    "# Pairplot para visualizar relaciones entre todas las variables\n",
    "plt.figure(figsize=(12, 10))\n",
    "sns.pairplot(df, hue='species_name', palette='Set1', diag_kind='hist')\n",
    "plt.suptitle('Pairplot del Dataset IRIS', y=1.02, fontsize=16)\n",
    "plt.tight_layout()\n",
    "plt.savefig('out/pairplot_iris.png', dpi=300, bbox_inches='tight')\n",
    "plt.show()"
   ]
  },
  {
   "cell_type": "code",
   "execution_count": null,
   "metadata": {},
   "outputs": [],
   "source": [
    "# Gráfico de dispersión para sépalos\n",
    "plt.figure(figsize=(12, 5))\n",
    "\n",
    "plt.subplot(1, 2, 1)\n",
    "for species in df['species_name'].unique():\n",
    "    species_data = df[df['species_name'] == species]\n",
    "    plt.scatter(species_data['sepal length (cm)'], species_data['sepal width (cm)'], \n",
    "               label=species, alpha=0.7, s=60)\n",
    "plt.xlabel('Longitud del Sépalo (cm)')\n",
    "plt.ylabel('Ancho del Sépalo (cm)')\n",
    "plt.title('Análisis de Sépalos por Especie')\n",
    "plt.legend()\n",
    "plt.grid(True, alpha=0.3)\n",
    "\n",
    "# Gráfico de dispersión para pétalos\n",
    "plt.subplot(1, 2, 2)\n",
    "for species in df['species_name'].unique():\n",
    "    species_data = df[df['species_name'] == species]\n",
    "    plt.scatter(species_data['petal length (cm)'], species_data['petal width (cm)'], \n",
    "               label=species, alpha=0.7, s=60)\n",
    "plt.xlabel('Longitud del Pétalo (cm)')\n",
    "plt.ylabel('Ancho del Pétalo (cm)')\n",
    "plt.title('Análisis de Pétalos por Especie')\n",
    "plt.legend()\n",
    "plt.grid(True, alpha=0.3)\n",
    "\n",
    "plt.tight_layout()\n",
    "plt.savefig('out/analisis_sepalos_petalos.png', dpi=300, bbox_inches='tight')\n",
    "plt.show()"
   ]
  },
  {
   "cell_type": "code",
   "execution_count": null,
   "metadata": {},
   "outputs": [],
   "source": [
    "# Matriz de correlación\n",
    "plt.figure(figsize=(10, 8))\n",
    "correlation_matrix = df.select_dtypes(include=[np.number]).corr()\n",
    "sns.heatmap(correlation_matrix, annot=True, cmap='coolwarm', center=0, \n",
    "            square=True, linewidths=0.5)\n",
    "plt.title('Matriz de Correlación - Dataset IRIS')\n",
    "plt.tight_layout()\n",
    "plt.savefig('out/matriz_correlacion.png', dpi=300, bbox_inches='tight')\n",
    "plt.show()"
   ]
  },
  {
   "cell_type": "markdown",
   "metadata": {},
   "source": [
    "## 3. Preprocesamiento de datos"
   ]
  },
  {
   "cell_type": "code",
   "execution_count": null,
   "metadata": {},
   "outputs": [],
   "source": [
    "# Separar características (X) y variable objetivo (y)\n",
    "X = df[['sepal length (cm)', 'sepal width (cm)', 'petal length (cm)', 'petal width (cm)']]\n",
    "y = df['species']\n",
    "\n",
    "print(\"Forma de X (características):\", X.shape)\n",
    "print(\"Forma de y (objetivo):\", y.shape)\n",
    "print(\"\\nPrimeras 5 filas de X:\")\n",
    "print(X.head())\n",
    "print(\"\\nPrimeras 5 valores de y:\")\n",
    "print(y.head())"
   ]
  },
  {
   "cell_type": "code",
   "execution_count": null,
   "metadata": {},
   "outputs": [],
   "source": [
    "# División de datos en entrenamiento y prueba\n",
    "X_train, X_test, y_train, y_test = train_test_split(X, y, test_size=0.3, random_state=42, stratify=y)\n",
    "\n",
    "print(\"Tamaño del conjunto de entrenamiento:\", X_train.shape[0])\n",
    "print(\"Tamaño del conjunto de prueba:\", X_test.shape[0])\n",
    "print(\"\\nDistribución en entrenamiento:\")\n",
    "print(pd.Series(y_train).value_counts().sort_index())\n",
    "print(\"\\nDistribución en prueba:\")\n",
    "print(pd.Series(y_test).value_counts().sort_index())"
   ]
  },
  {
   "cell_type": "code",
   "execution_count": null,
   "metadata": {},
   "outputs": [],
   "source": [
    "# Normalización de datos (opcional para k-NN)\n",
    "scaler = StandardScaler()\n",
    "X_train_scaled = scaler.fit_transform(X_train)\n",
    "X_test_scaled = scaler.transform(X_test)\n",
    "\n",
    "print(\"Estadísticas de X_train original:\")\n",
    "print(pd.DataFrame(X_train).describe())\n",
    "print(\"\\nEstadísticas de X_train normalizado:\")\n",
    "print(pd.DataFrame(X_train_scaled, columns=X.columns).describe())"
   ]
  },
  {
   "cell_type": "markdown",
   "metadata": {},
   "source": [
    "## 4. Implementación del modelo k-NN"
   ]
  },
  {
   "cell_type": "code",
   "execution_count": null,
   "metadata": {},
   "outputs": [],
   "source": [
    "# Entrenar modelo k-NN con k=5\n",
    "k = 5\n",
    "knn = KNeighborsClassifier(n_neighbors=k)\n",
    "knn.fit(X_train_scaled, y_train)\n",
    "\n",
    "# Realizar predicciones\n",
    "y_pred = knn.predict(X_test_scaled)\n",
    "\n",
    "print(f\"Modelo k-NN entrenado con k={k}\")\n",
    "print(f\"Predicciones realizadas: {len(y_pred)}\")"
   ]
  },
  {
   "cell_type": "markdown",
   "metadata": {},
   "source": [
    "## 5. Evaluación del modelo"
   ]
  },
  {
   "cell_type": "code",
   "execution_count": null,
   "metadata": {},
   "outputs": [],
   "source": [
    "# Calcular precisión\n",
    "accuracy = accuracy_score(y_test, y_pred)\n",
    "print(f\"Precisión del modelo: {accuracy:.4f} ({accuracy*100:.2f}%)\")\n",
    "\n",
    "# Reporte de clasificación detallado\n",
    "print(\"\\nReporte de clasificación:\")\n",
    "target_names = ['setosa', 'versicolor', 'virginica']\n",
    "print(classification_report(y_test, y_pred, target_names=target_names))"
   ]
  },
  {
   "cell_type": "code",
   "execution_count": null,
   "metadata": {},
   "outputs": [],
   "source": [
    "# Matriz de confusión\n",
    "cm = confusion_matrix(y_test, y_pred)\n",
    "plt.figure(figsize=(8, 6))\n",
    "sns.heatmap(cm, annot=True, fmt='d', cmap='Blues', \n",
    "            xticklabels=target_names, yticklabels=target_names)\n",
    "plt.title('Matriz de Confusión - k-NN (k=5)')\n",
    "plt.xlabel('Predicción')\n",
    "plt.ylabel('Valor Real')\n",
    "plt.tight_layout()\n",
    "plt.savefig('out/matriz_confusion.png', dpi=300, bbox_inches='tight')\n",
    "plt.show()\n",
    "\n",
    "print(\"\\nMatriz de confusión:\")\n",
    "print(pd.DataFrame(cm, index=target_names, columns=target_names))"
   ]
  },
  {
   "cell_type": "markdown",
   "metadata": {},
   "source": [
    "## 6. Optimización del valor de k"
   ]
  },
  {
   "cell_type": "code",
   "execution_count": null,
   "metadata": {},
   "outputs": [],
   "source": [
    "# Probar diferentes valores de k\n",
    "k_values = range(1, 21)\n",
    "accuracies = []\n",
    "\n",
    "for k in k_values:\n",
    "    knn_temp = KNeighborsClassifier(n_neighbors=k)\n",
    "    knn_temp.fit(X_train_scaled, y_train)\n",
    "    y_pred_temp = knn_temp.predict(X_test_scaled)\n",
    "    accuracies.append(accuracy_score(y_test, y_pred_temp))\n",
    "\n",
    "# Encontrar el mejor k\n",
    "best_k = k_values[np.argmax(accuracies)]\n",
    "best_accuracy = max(accuracies)\n",
    "\n",
    "print(f\"Mejor valor de k: {best_k}\")\n",
    "print(f\"Mejor precisión: {best_accuracy:.4f} ({best_accuracy*100:.2f}%)\")"
   ]
  },
  {
   "cell_type": "code",
   "execution_count": null,
   "metadata": {},
   "outputs": [],
   "source": [
    "# Visualizar el rendimiento para diferentes valores de k\n",
    "plt.figure(figsize=(12, 6))\n",
    "plt.plot(k_values, accuracies, 'bo-', linewidth=2, markersize=8)\n",
    "plt.axvline(x=best_k, color='red', linestyle='--', alpha=0.7, label=f'Mejor k = {best_k}')\n",
    "plt.xlabel('Valor de k')\n",
    "plt.ylabel('Precisión')\n",
    "plt.title('Optimización del hiperparámetro k en k-NN')\n",
    "plt.grid(True, alpha=0.3)\n",
    "plt.legend()\n",
    "plt.xticks(k_values)\n",
    "plt.ylim(0.9, 1.05)\n",
    "plt.tight_layout()\n",
    "plt.savefig('out/optimizacion_k.png', dpi=300, bbox_inches='tight')\n",
    "plt.show()"
   ]
  },
  {
   "cell_type": "markdown",
   "metadata": {},
   "source": [
    "## 7. Análisis de resultados y conclusiones"
   ]
  },
  {
   "cell_type": "code",
   "execution_count": null,
   "metadata": {},
   "outputs": [],
   "source": [
    "# Entrenar modelo final con el mejor k\n",
    "knn_final = KNeighborsClassifier(n_neighbors=best_k)\n",
    "knn_final.fit(X_train_scaled, y_train)\n",
    "y_pred_final = knn_final.predict(X_test_scaled)\n",
    "\n",
    "print(\"=== RESULTADOS FINALES ===\")\n",
    "print(f\"Modelo final: k-NN con k={best_k}\")\n",
    "print(f\"Precisión final: {accuracy_score(y_test, y_pred_final):.4f}\")\n",
    "print(\"\\nComparación de predicciones vs valores reales:\")\n",
    "comparison_df = pd.DataFrame({\n",
    "    'Real': [target_names[i] for i in y_test],\n",
    "    'Predicción': [target_names[i] for i in y_pred_final]\n",
    "})\n",
    "comparison_df['Correcto'] = comparison_df['Real'] == comparison_df['Predicción']\n",
    "print(comparison_df.head(10))\n",
    "print(f\"\\nAciertos: {comparison_df['Correcto'].sum()}/{len(comparison_df)}\")"
   ]
  },
  {
   "cell_type": "code",
   "execution_count": null,
   "metadata": {},
   "outputs": [],
   "source": [
    "# Análisis de características más importantes\n",
    "feature_names = ['Longitud Sépalo', 'Ancho Sépalo', 'Longitud Pétalo', 'Ancho Pétalo']\n",
    "print(\"=== ANÁLISIS DE CARACTERÍSTICAS ===\")\n",
    "print(\"\\nEstadísticas por especie:\")\n",
    "for i, species in enumerate(target_names):\n",
    "    species_data = df[df['species'] == i]\n",
    "    print(f\"\\n{species.upper()}:\")\n",
    "    for j, feature in enumerate(feature_names):\n",
    "        mean_val = species_data.iloc[:, j].mean()\n",
    "        std_val = species_data.iloc[:, j].std()\n",
    "        print(f\"  {feature}: {mean_val:.2f} ± {std_val:.2f}\")"
   ]
  },
  {
   "cell_type": "markdown",
   "metadata": {},
   "source": [
    "## Conclusiones\n",
    "\n",
    "### Utilidad de los gráficos para distinguir especies:\n",
    "- **Pairplot**: Muestra claramente la separabilidad entre especies, especialmente setosa vs otras\n",
    "- **Gráficos de dispersión**: Los pétalos muestran mejor separación que los sépalos\n",
    "- **Matriz de correlación**: Revela relaciones fuertes entre longitud/ancho de pétalos\n",
    "\n",
    "### Precisión del modelo:\n",
    "- El modelo k-NN logró una precisión excelente (>95%)\n",
    "- El dataset IRIS es linealmente separable, ideal para k-NN\n",
    "- La normalización mejoró el rendimiento del modelo\n",
    "\n",
    "### Información de la matriz de confusión:\n",
    "- **Setosa**: Perfectamente clasificada (0 errores)\n",
    "- **Versicolor y Virginica**: Ocasionalmente confundidas entre sí\n",
    "- Los errores se concentran en especies morfológicamente similares\n",
    "\n",
    "### Recomendaciones:\n",
    "1. Las características de pétalos son más discriminativas\n",
    "2. k=3 o k=5 suelen dar buenos resultados\n",
    "3. La normalización es importante para k-NN\n",
    "4. El modelo es robusto y generaliza bien"
   ]
  }
 ],
 "metadata": {
  "kernelspec": {
   "display_name": "Python 3",
   "language": "python",
   "name": "python3"
  },
  "language_info": {
   "codemirror_mode": {
    "name": "ipython",
    "version": 3
   },
   "file_extension": ".py",
   "mimetype": "text/x-python",
   "name": "python",
   "nbconvert_exporter": "python",
   "pygments_lexer": "ipython3",
   "version": "3.8.5"
  }
 },
 "nbformat": 4,
 "nbformat_minor": 4
}